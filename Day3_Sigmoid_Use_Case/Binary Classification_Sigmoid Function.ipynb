{
 "cells": [
  {
   "cell_type": "markdown",
   "id": "fda5185a",
   "metadata": {},
   "source": [
    "## Binary Classification- Sigmoid Function in action\n",
    "The sigmoid function, is a mathematical curve that has a characteristic S-shaped curve. The output of the sigmoid function can be interpreted as the probability of an observation belonging to a particular class. This makes it particularly useful in classification tasks where we want to assign probabilities to different outcomes."
   ]
  },
  {
   "cell_type": "markdown",
   "id": "a4ee25f9",
   "metadata": {},
   "source": [
    "Several algorithms use the sigmoid function for binary classification, including:\n",
    "\n",
    "- Logistic Regression\n",
    "- Neural Networks (in the output layer for binary classification)\n",
    "- Support Vector Machines with a sigmoid kernel\n",
    "- Probabilistic Generative Models like Gaussian Naive Bayes when adapted for binary classification\n",
    "\n",
    "In this notebook, I am going to explore the role of Sigmoid function in **Logistic regression** Machine Learning model.\n",
    "\n",
    "***Disclaimer***: Agenda is to understand how Sigmoid function is put in to action in an Algorithm. This is **not** a comprehensive Logistic regression model."
   ]
  },
  {
   "cell_type": "markdown",
   "id": "ac60821b",
   "metadata": {},
   "source": [
    "**Recap:** Mathematically, the sigmoid function is computed with the formula,\n",
    "$f(z) = \\frac{1}{1+e^{-z}}\\tag{1}$\n",
    "where,\n",
    "- z is the input to the sigmoid function)\n",
    "- e - Euler's number (Mathematical constant)- 2.781.\n",
    "\n",
    "In the case of logistic regression, z (the input to the sigmoid function), is the output of a linear regression model \n",
    "***(y=mx+b)***\n",
    "where,\n",
    "- 'm' is the slope\n",
    "- 'b' is the intercept"
   ]
  },
  {
   "cell_type": "markdown",
   "id": "df551c8d",
   "metadata": {},
   "source": [
    "#### Python Implementation:"
   ]
  },
  {
   "cell_type": "code",
   "execution_count": 1,
   "id": "a99604cf",
   "metadata": {},
   "outputs": [],
   "source": [
    "# Importing necessary libraries to begin\n",
    "import pandas as pd\n",
    "from matplotlib import pyplot as plt\n",
    "%matplotlib inline\n",
    "import warnings\n",
    "warnings.filterwarnings('ignore')"
   ]
  },
  {
   "cell_type": "code",
   "execution_count": 2,
   "id": "5d5d437d",
   "metadata": {},
   "outputs": [
    {
     "data": {
      "text/html": [
       "<div>\n",
       "<style scoped>\n",
       "    .dataframe tbody tr th:only-of-type {\n",
       "        vertical-align: middle;\n",
       "    }\n",
       "\n",
       "    .dataframe tbody tr th {\n",
       "        vertical-align: top;\n",
       "    }\n",
       "\n",
       "    .dataframe thead th {\n",
       "        text-align: right;\n",
       "    }\n",
       "</style>\n",
       "<table border=\"1\" class=\"dataframe\">\n",
       "  <thead>\n",
       "    <tr style=\"text-align: right;\">\n",
       "      <th></th>\n",
       "      <th>Pregnancies</th>\n",
       "      <th>Glucose</th>\n",
       "      <th>BP</th>\n",
       "      <th>Skin</th>\n",
       "      <th>Insulin</th>\n",
       "      <th>BMI</th>\n",
       "      <th>Pedigree</th>\n",
       "      <th>Age</th>\n",
       "      <th>Outcome</th>\n",
       "    </tr>\n",
       "  </thead>\n",
       "  <tbody>\n",
       "    <tr>\n",
       "      <th>0</th>\n",
       "      <td>6</td>\n",
       "      <td>148</td>\n",
       "      <td>72</td>\n",
       "      <td>35</td>\n",
       "      <td>0</td>\n",
       "      <td>33.6</td>\n",
       "      <td>0.627</td>\n",
       "      <td>50</td>\n",
       "      <td>1</td>\n",
       "    </tr>\n",
       "    <tr>\n",
       "      <th>1</th>\n",
       "      <td>1</td>\n",
       "      <td>85</td>\n",
       "      <td>66</td>\n",
       "      <td>29</td>\n",
       "      <td>0</td>\n",
       "      <td>26.6</td>\n",
       "      <td>0.351</td>\n",
       "      <td>31</td>\n",
       "      <td>0</td>\n",
       "    </tr>\n",
       "    <tr>\n",
       "      <th>2</th>\n",
       "      <td>8</td>\n",
       "      <td>183</td>\n",
       "      <td>64</td>\n",
       "      <td>0</td>\n",
       "      <td>0</td>\n",
       "      <td>23.3</td>\n",
       "      <td>0.672</td>\n",
       "      <td>32</td>\n",
       "      <td>1</td>\n",
       "    </tr>\n",
       "    <tr>\n",
       "      <th>3</th>\n",
       "      <td>1</td>\n",
       "      <td>89</td>\n",
       "      <td>66</td>\n",
       "      <td>23</td>\n",
       "      <td>94</td>\n",
       "      <td>28.1</td>\n",
       "      <td>0.167</td>\n",
       "      <td>21</td>\n",
       "      <td>0</td>\n",
       "    </tr>\n",
       "    <tr>\n",
       "      <th>4</th>\n",
       "      <td>0</td>\n",
       "      <td>137</td>\n",
       "      <td>40</td>\n",
       "      <td>35</td>\n",
       "      <td>168</td>\n",
       "      <td>43.1</td>\n",
       "      <td>2.288</td>\n",
       "      <td>33</td>\n",
       "      <td>1</td>\n",
       "    </tr>\n",
       "  </tbody>\n",
       "</table>\n",
       "</div>"
      ],
      "text/plain": [
       "   Pregnancies  Glucose  BP  Skin  Insulin   BMI  Pedigree  Age  Outcome\n",
       "0            6      148  72    35        0  33.6     0.627   50        1\n",
       "1            1       85  66    29        0  26.6     0.351   31        0\n",
       "2            8      183  64     0        0  23.3     0.672   32        1\n",
       "3            1       89  66    23       94  28.1     0.167   21        0\n",
       "4            0      137  40    35      168  43.1     2.288   33        1"
      ]
     },
     "execution_count": 2,
     "metadata": {},
     "output_type": "execute_result"
    }
   ],
   "source": [
    "#Loading a publicly available diabetes dataset and adding columns to it.\n",
    "url='https://raw.githubusercontent.com/jbrownlee/Datasets/master/pima-indians-diabetes.data.csv'\n",
    "col=['Pregnancies', 'Glucose', 'BP', 'Skin', 'Insulin', 'BMI', 'Pedigree', 'Age', 'Outcome']\n",
    "df=pd.read_csv(url,names=col)\n",
    "df.head()"
   ]
  },
  {
   "cell_type": "code",
   "execution_count": null,
   "id": "7d30cc72",
   "metadata": {},
   "outputs": [],
   "source": [
    "df.isnull().sum()"
   ]
  },
  {
   "cell_type": "markdown",
   "id": "d3b487b9",
   "metadata": {},
   "source": [
    "Per the dataset, several factors influence in determining whether a person is diabetic or not. In this example, for simplicity purpose ***will be dropping all columns except BMI (Input variable) and Outcome (Target)***\n",
    "\n",
    "Let's review how the Outcome column ranges in terms of BMI"
   ]
  },
  {
   "cell_type": "code",
   "execution_count": 3,
   "id": "ce9f9db5",
   "metadata": {},
   "outputs": [
    {
     "data": {
      "text/plain": [
       "<matplotlib.collections.PathCollection at 0x1a991ec22f0>"
      ]
     },
     "execution_count": 3,
     "metadata": {},
     "output_type": "execute_result"
    },
    {
     "data": {
      "image/png": "[encoded data removed]",
      "text/plain": [
       "<Figure size 640x480 with 1 Axes>"
      ]
     },
     "metadata": {},
     "output_type": "display_data"
    }
   ],
   "source": [
    "plt.scatter(df.BMI,df.Outcome, marker='*', c='navy')"
   ]
  },
  {
   "cell_type": "code",
   "execution_count": 4,
   "id": "6cda4302",
   "metadata": {},
   "outputs": [
    {
     "name": "stdout",
     "output_type": "stream",
     "text": [
      "Rows with BMI as 0 in dataset: 11\n"
     ]
    }
   ],
   "source": [
    "print('Rows with BMI as 0 in dataset:',(df.BMI==0).sum())"
   ]
  },
  {
   "cell_type": "markdown",
   "id": "412fe1da",
   "metadata": {},
   "source": [
    "Seems few rows has *BMI values as **'0'***. Will be removing them along with all columns except for BMI and Outcome"
   ]
  },
  {
   "cell_type": "code",
   "execution_count": 5,
   "id": "79eff2df",
   "metadata": {},
   "outputs": [
    {
     "name": "stdout",
     "output_type": "stream",
     "text": [
      "Rows with BMI as 0 in filtered dataset: 0\n"
     ]
    },
    {
     "data": {
      "text/html": [
       "<div>\n",
       "<style scoped>\n",
       "    .dataframe tbody tr th:only-of-type {\n",
       "        vertical-align: middle;\n",
       "    }\n",
       "\n",
       "    .dataframe tbody tr th {\n",
       "        vertical-align: top;\n",
       "    }\n",
       "\n",
       "    .dataframe thead th {\n",
       "        text-align: right;\n",
       "    }\n",
       "</style>\n",
       "<table border=\"1\" class=\"dataframe\">\n",
       "  <thead>\n",
       "    <tr style=\"text-align: right;\">\n",
       "      <th></th>\n",
       "      <th>BMI</th>\n",
       "      <th>Outcome</th>\n",
       "    </tr>\n",
       "  </thead>\n",
       "  <tbody>\n",
       "    <tr>\n",
       "      <th>0</th>\n",
       "      <td>33.6</td>\n",
       "      <td>1</td>\n",
       "    </tr>\n",
       "    <tr>\n",
       "      <th>1</th>\n",
       "      <td>26.6</td>\n",
       "      <td>0</td>\n",
       "    </tr>\n",
       "    <tr>\n",
       "      <th>2</th>\n",
       "      <td>23.3</td>\n",
       "      <td>1</td>\n",
       "    </tr>\n",
       "    <tr>\n",
       "      <th>3</th>\n",
       "      <td>28.1</td>\n",
       "      <td>0</td>\n",
       "    </tr>\n",
       "    <tr>\n",
       "      <th>4</th>\n",
       "      <td>43.1</td>\n",
       "      <td>1</td>\n",
       "    </tr>\n",
       "  </tbody>\n",
       "</table>\n",
       "</div>"
      ],
      "text/plain": [
       "    BMI  Outcome\n",
       "0  33.6        1\n",
       "1  26.6        0\n",
       "2  23.3        1\n",
       "3  28.1        0\n",
       "4  43.1        1"
      ]
     },
     "execution_count": 5,
     "metadata": {},
     "output_type": "execute_result"
    }
   ],
   "source": [
    "df1 = df[df['BMI'] != 0][['BMI', 'Outcome']]\n",
    "print('Rows with BMI as 0 in filtered dataset:',(df1.BMI==0).sum())\n",
    "df1.head()"
   ]
  },
  {
   "cell_type": "markdown",
   "id": "29cdde83",
   "metadata": {},
   "source": [
    "Let's build a Logistic Regression model **(with default variables)**. \n",
    "I will **not** be splitting the data to train and test as i will not be testing the accuracy of the model anyway"
   ]
  },
  {
   "cell_type": "code",
   "execution_count": 6,
   "id": "403cb76d",
   "metadata": {},
   "outputs": [
    {
     "data": {
      "text/html": [
       "<style>#sk-container-id-1 {color: black;background-color: white;}#sk-container-id-1 pre{padding: 0;}#sk-container-id-1 div.sk-toggleable {background-color: white;}#sk-container-id-1 label.sk-toggleable__label {cursor: pointer;display: block;width: 100%;margin-bottom: 0;padding: 0.3em;box-sizing: border-box;text-align: center;}#sk-container-id-1 label.sk-toggleable__label-arrow:before {content: \"▸\";float: left;margin-right: 0.25em;color: #696969;}#sk-container-id-1 label.sk-toggleable__label-arrow:hover:before {color: black;}#sk-container-id-1 div.sk-estimator:hover label.sk-toggleable__label-arrow:before {color: black;}#sk-container-id-1 div.sk-toggleable__content {max-height: 0;max-width: 0;overflow: hidden;text-align: left;background-color: #f0f8ff;}#sk-container-id-1 div.sk-toggleable__content pre {margin: 0.2em;color: black;border-radius: 0.25em;background-color: #f0f8ff;}#sk-container-id-1 input.sk-toggleable__control:checked~div.sk-toggleable__content {max-height: 200px;max-width: 100%;overflow: auto;}#sk-container-id-1 input.sk-toggleable__control:checked~label.sk-toggleable__label-arrow:before {content: \"▾\";}#sk-container-id-1 div.sk-estimator input.sk-toggleable__control:checked~label.sk-toggleable__label {background-color: #d4ebff;}#sk-container-id-1 div.sk-label input.sk-toggleable__control:checked~label.sk-toggleable__label {background-color: #d4ebff;}#sk-container-id-1 input.sk-hidden--visually {border: 0;clip: rect(1px 1px 1px 1px);clip: rect(1px, 1px, 1px, 1px);height: 1px;margin: -1px;overflow: hidden;padding: 0;position: absolute;width: 1px;}#sk-container-id-1 div.sk-estimator {font-family: monospace;background-color: #f0f8ff;border: 1px dotted black;border-radius: 0.25em;box-sizing: border-box;margin-bottom: 0.5em;}#sk-container-id-1 div.sk-estimator:hover {background-color: #d4ebff;}#sk-container-id-1 div.sk-parallel-item::after {content: \"\";width: 100%;border-bottom: 1px solid gray;flex-grow: 1;}#sk-container-id-1 div.sk-label:hover label.sk-toggleable__label {background-color: #d4ebff;}#sk-container-id-1 div.sk-serial::before {content: \"\";position: absolute;border-left: 1px solid gray;box-sizing: border-box;top: 0;bottom: 0;left: 50%;z-index: 0;}#sk-container-id-1 div.sk-serial {display: flex;flex-direction: column;align-items: center;background-color: white;padding-right: 0.2em;padding-left: 0.2em;position: relative;}#sk-container-id-1 div.sk-item {position: relative;z-index: 1;}#sk-container-id-1 div.sk-parallel {display: flex;align-items: stretch;justify-content: center;background-color: white;position: relative;}#sk-container-id-1 div.sk-item::before, #sk-container-id-1 div.sk-parallel-item::before {content: \"\";position: absolute;border-left: 1px solid gray;box-sizing: border-box;top: 0;bottom: 0;left: 50%;z-index: -1;}#sk-container-id-1 div.sk-parallel-item {display: flex;flex-direction: column;z-index: 1;position: relative;background-color: white;}#sk-container-id-1 div.sk-parallel-item:first-child::after {align-self: flex-end;width: 50%;}#sk-container-id-1 div.sk-parallel-item:last-child::after {align-self: flex-start;width: 50%;}#sk-container-id-1 div.sk-parallel-item:only-child::after {width: 0;}#sk-container-id-1 div.sk-dashed-wrapped {border: 1px dashed gray;margin: 0 0.4em 0.5em 0.4em;box-sizing: border-box;padding-bottom: 0.4em;background-color: white;}#sk-container-id-1 div.sk-label label {font-family: monospace;font-weight: bold;display: inline-block;line-height: 1.2em;}#sk-container-id-1 div.sk-label-container {text-align: center;}#sk-container-id-1 div.sk-container {/* jupyter's `normalize.less` sets `[hidden] { display: none; }` but bootstrap.min.css set `[hidden] { display: none !important; }` so we also need the `!important` here to be able to override the default hidden behavior on the sphinx rendered scikit-learn.org. See: https://github.com/scikit-learn/scikit-learn/issues/21755 */display: inline-block !important;position: relative;}#sk-container-id-1 div.sk-text-repr-fallback {display: none;}</style><div id=\"sk-container-id-1\" class=\"sk-top-container\"><div class=\"sk-text-repr-fallback\"><pre>LogisticRegression()</pre><b>In a Jupyter environment, please rerun this cell to show the HTML representation or trust the notebook. <br />On GitHub, the HTML representation is unable to render, please try loading this page with nbviewer.org.</b></div><div class=\"sk-container\" hidden><div class=\"sk-item\"><div class=\"sk-estimator sk-toggleable\"><input class=\"sk-toggleable__control sk-hidden--visually\" id=\"sk-estimator-id-1\" type=\"checkbox\" checked><label for=\"sk-estimator-id-1\" class=\"sk-toggleable__label sk-toggleable__label-arrow\">LogisticRegression</label><div class=\"sk-toggleable__content\"><pre>LogisticRegression()</pre></div></div></div></div></div>"
      ],
      "text/plain": [
       "LogisticRegression()"
      ]
     },
     "execution_count": 6,
     "metadata": {},
     "output_type": "execute_result"
    }
   ],
   "source": [
    "#Importing necessary libraries and building the model\n",
    "from sklearn.linear_model import LogisticRegression\n",
    "model = LogisticRegression()\n",
    "model.fit(df1[['BMI']], df1.Outcome)"
   ]
  },
  {
   "cell_type": "markdown",
   "id": "de77c392",
   "metadata": {},
   "source": [
    "Let's calculate outcome of the model  mathematically to understand the role of sigmoid function."
   ]
  },
  {
   "cell_type": "code",
   "execution_count": 7,
   "id": "c7970c31",
   "metadata": {},
   "outputs": [
    {
     "name": "stdout",
     "output_type": "stream",
     "text": [
      "Slope(m): [[0.10248332]]\n",
      "Intercept(b): [-3.9962745]\n"
     ]
    }
   ],
   "source": [
    "print('Slope(m):',model.coef_)\n",
    "print('Intercept(b):',model.intercept_)"
   ]
  },
  {
   "cell_type": "code",
   "execution_count": 10,
   "id": "a648d84d",
   "metadata": {},
   "outputs": [],
   "source": [
    "import numpy as np\n",
    "def sigmoid(z):\n",
    "    return 1 / (1 + np.exp(-z))\n",
    "def prediction_function(bmi):\n",
    "    y= model.coef_ * bmi + (model.intercept_)\n",
    "    #y=m*x+b - Linear regression equation\n",
    "    g= sigmoid(y)\n",
    "    return g"
   ]
  },
  {
   "cell_type": "markdown",
   "id": "49498fee",
   "metadata": {},
   "source": [
    "I am passing few BMI Values to calculate Probablity and predictions mathematically"
   ]
  },
  {
   "cell_type": "code",
   "execution_count": 17,
   "id": "013ade37",
   "metadata": {},
   "outputs": [
    {
     "name": "stdout",
     "output_type": "stream",
     "text": [
      "   BMI  Sigmoid_output     Diabetic Probability Predicted Class\n",
      "0   45        0.500000   [[0.6491886913980393]]        Diabetic\n",
      "1   25        0.731059  [[0.19244644142653913]]    Non-Diabetic\n",
      "2   30        0.880797  [[0.28459638669248305]]    Non-Diabetic\n",
      "3   50        0.952574   [[0.7554495771137849]]        Diabetic\n"
     ]
    }
   ],
   "source": [
    "bmi = [45, 25, 30, 50]\n",
    "# List comprehension to calculate diabetic probabilities , sigmoid outputs, predicted class\n",
    "diabetic_probabilities = [prediction_function(bmi_val) for bmi_val in bmi]\n",
    "sigmoid_output = [sigmoid(prob) for prob in range(len(bmi))]\n",
    "predicted_classes = [\"Diabetic\" if prob >= 0.5 else \"Non-Diabetic\" for prob in diabetic_probabilities]\n",
    "\n",
    "# Creating DataFrame to store results\n",
    "results_df = pd.DataFrame({\n",
    "    'BMI': bmi,\n",
    "    'Sigmoid_output': sigmoid_output,\n",
    "    'Diabetic Probability': diabetic_probabilities,\n",
    "    'Predicted Class': predicted_classes\n",
    "})\n",
    "print(results_df)"
   ]
  },
  {
   "cell_type": "markdown",
   "id": "2be290b2",
   "metadata": {},
   "source": [
    "Let's calculate the predictions for the same input BMI through our ML model"
   ]
  },
  {
   "cell_type": "code",
   "execution_count": 18,
   "id": "3d15c2b7",
   "metadata": {},
   "outputs": [
    {
     "name": "stdout",
     "output_type": "stream",
     "text": [
      "   BMI  Diabetic Probability Predicted Class\n",
      "0   45              0.649189        Diabetic\n",
      "1   25              0.192446    Non-Diabetic\n",
      "2   30              0.284596    Non-Diabetic\n",
      "3   50              0.755450        Diabetic\n"
     ]
    }
   ],
   "source": [
    "bmi_ml = [[45], [25], [30], [50]]\n",
    "probabilities = model.predict_proba(bmi_ml)\n",
    "predictions = model.predict(bmi_ml)\n",
    "#Using Dictionary Comprehension\n",
    "result_df = pd.DataFrame({\n",
    "    'BMI': [bmi[0] for bmi in bmi_ml],\n",
    "    'Diabetic Probability': probabilities[:, 1],\n",
    "    'Predicted Class': ['Diabetic' if pred == 1 else 'Non-Diabetic' for pred in predictions]\n",
    "})\n",
    "print(result_df)"
   ]
  },
  {
   "cell_type": "markdown",
   "id": "740887d9",
   "metadata": {},
   "source": [
    "From the above exercise, we can infer that the predicted class and the diabetic probability are exactly the same when predicting through the logistic regression model and through mathematical calculation. This helps to explain the role of the sigmoid function in the logistic regression algorithm."
   ]
  },
  {
   "attachments": {
    "image-2.png": {
     "image/png": "[encoded data removed]"
    }
   },
   "cell_type": "markdown",
   "id": "73fd146c",
   "metadata": {},
   "source": [
    "![image-2.png](attachment:image-2.png)"
   ]
  }
 ],
 "metadata": {
  "kernelspec": {
   "display_name": "Python 3 (ipykernel)",
   "language": "python",
   "name": "python3"
  },
  "language_info": {
   "codemirror_mode": {
    "name": "ipython",
    "version": 3
   },
   "file_extension": ".py",
   "mimetype": "text/x-python",
   "name": "python",
   "nbconvert_exporter": "python",
   "pygments_lexer": "ipython3",
   "version": "3.10.9"
  }
 },
 "nbformat": 4,
 "nbformat_minor": 5
}
