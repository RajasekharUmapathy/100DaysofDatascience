{
 "cells": [
  {
   "cell_type": "markdown",
   "id": "a9b17ddf",
   "metadata": {},
   "source": [
    "## Sigmoid Function: Transforming Data into Predictions"
   ]
  },
  {
   "cell_type": "markdown",
   "id": "52748395",
   "metadata": {},
   "source": [
    "In the vast landscape of data science, understanding the intricacies of non-linear relationships is paramount for building accurate predictive models and can uncover hidden insights within data. One such function that plays a pivotal role, particularly in classification tasks, is the sigmoid function."
   ]
  },
  {
   "cell_type": "markdown",
   "id": "4123e1a4",
   "metadata": {},
   "source": [
    "### What is the sigmoid function?\n",
    "The sigmoid function, also known as logistic function, is a mathematical function that maps any real number between -∞ and +∞  to a value between 0 and 1.\n",
    "Mathematically it is computed with the formula,\n",
    "$f(z) = \\frac{1}{1+e^{-z}}\\tag{1}$\n",
    "where,\n",
    "- z is the input to the sigmoid function)\n",
    "- e - Euler's number (Mathematical constant)- 2.781\n",
    "\n",
    "### Properties:\n",
    "- Range: The output of the sigmoid function always lies between 0 and 1, making it suitable for modeling probabilities.\n",
    "- Symmetry: The sigmoid function is symmetric around its midpoint (0.5), meaning that f(z)=0.5 when 'z' is 0.\n",
    "- Differentiability: The sigmoid function is smooth and continuously differentiable, which is crucial for gradient-based optimization algorithms used in machine learning.\n",
    "- Monotonicity: The sigmoid function is strictly increasing, ensuring that as 'z' increases f(z) moves closer to 1 and as 'z' decreases f(z) moves closer to o."
   ]
  },
  {
   "cell_type": "markdown",
   "id": "6ea720f3",
   "metadata": {},
   "source": [
    "### Python Implementation: \n",
    "Lets create a function to mathematically calculate sigmoid."
   ]
  },
  {
   "cell_type": "code",
   "execution_count": 9,
   "id": "d7a88e8f",
   "metadata": {},
   "outputs": [],
   "source": [
    "def sigmoid(x):\n",
    "    return 1 / (1 + np.exp(-x))"
   ]
  },
  {
   "cell_type": "markdown",
   "id": "9fd6cd84",
   "metadata": {},
   "source": [
    "Creating 100 data point between -10 and +10 and reviewing the inputs with the corresponding Sigmoid values"
   ]
  },
  {
   "cell_type": "code",
   "execution_count": 27,
   "id": "fc45c713",
   "metadata": {},
   "outputs": [
    {
     "data": {
      "text/html": [
       "<div>\n",
       "<style scoped>\n",
       "    .dataframe tbody tr th:only-of-type {\n",
       "        vertical-align: middle;\n",
       "    }\n",
       "\n",
       "    .dataframe tbody tr th {\n",
       "        vertical-align: top;\n",
       "    }\n",
       "\n",
       "    .dataframe thead th {\n",
       "        text-align: right;\n",
       "    }\n",
       "</style>\n",
       "<table border=\"1\" class=\"dataframe\">\n",
       "  <thead>\n",
       "    <tr style=\"text-align: right;\">\n",
       "      <th></th>\n",
       "      <th>x</th>\n",
       "      <th>sigmoid(x)</th>\n",
       "    </tr>\n",
       "  </thead>\n",
       "  <tbody>\n",
       "    <tr>\n",
       "      <th>0</th>\n",
       "      <td>-10.000000</td>\n",
       "      <td>0.000045</td>\n",
       "    </tr>\n",
       "    <tr>\n",
       "      <th>1</th>\n",
       "      <td>-9.797980</td>\n",
       "      <td>0.000056</td>\n",
       "    </tr>\n",
       "    <tr>\n",
       "      <th>2</th>\n",
       "      <td>-9.595960</td>\n",
       "      <td>0.000068</td>\n",
       "    </tr>\n",
       "    <tr>\n",
       "      <th>3</th>\n",
       "      <td>-9.393939</td>\n",
       "      <td>0.000083</td>\n",
       "    </tr>\n",
       "    <tr>\n",
       "      <th>4</th>\n",
       "      <td>-9.191919</td>\n",
       "      <td>0.000102</td>\n",
       "    </tr>\n",
       "    <tr>\n",
       "      <th>...</th>\n",
       "      <td>...</td>\n",
       "      <td>...</td>\n",
       "    </tr>\n",
       "    <tr>\n",
       "      <th>95</th>\n",
       "      <td>9.191919</td>\n",
       "      <td>0.999898</td>\n",
       "    </tr>\n",
       "    <tr>\n",
       "      <th>96</th>\n",
       "      <td>9.393939</td>\n",
       "      <td>0.999917</td>\n",
       "    </tr>\n",
       "    <tr>\n",
       "      <th>97</th>\n",
       "      <td>9.595960</td>\n",
       "      <td>0.999932</td>\n",
       "    </tr>\n",
       "    <tr>\n",
       "      <th>98</th>\n",
       "      <td>9.797980</td>\n",
       "      <td>0.999944</td>\n",
       "    </tr>\n",
       "    <tr>\n",
       "      <th>99</th>\n",
       "      <td>10.000000</td>\n",
       "      <td>0.999955</td>\n",
       "    </tr>\n",
       "  </tbody>\n",
       "</table>\n",
       "<p>100 rows × 2 columns</p>\n",
       "</div>"
      ],
      "text/plain": [
       "            x  sigmoid(x)\n",
       "0  -10.000000    0.000045\n",
       "1   -9.797980    0.000056\n",
       "2   -9.595960    0.000068\n",
       "3   -9.393939    0.000083\n",
       "4   -9.191919    0.000102\n",
       "..        ...         ...\n",
       "95   9.191919    0.999898\n",
       "96   9.393939    0.999917\n",
       "97   9.595960    0.999932\n",
       "98   9.797980    0.999944\n",
       "99  10.000000    0.999955\n",
       "\n",
       "[100 rows x 2 columns]"
      ]
     },
     "execution_count": 27,
     "metadata": {},
     "output_type": "execute_result"
    }
   ],
   "source": [
    "import numpy as np\n",
    "import pandas as pd\n",
    "\n",
    "#create data\n",
    "x = np.linspace(-10, 10, 100) \n",
    "\n",
    "#Computing (function call)\n",
    "y = sigmoid(x)\n",
    "\n",
    "#Dataframe for the data to make it easily viewable in a table:\n",
    "df = pd.DataFrame({\"x\": x, \"sigmoid(x)\": y})\n",
    "df"
   ]
  },
  {
   "cell_type": "markdown",
   "id": "ae04837a",
   "metadata": {},
   "source": [
    "Let's visualize this data. By plotting the sigmoid function, we get the familiar S-curve:"
   ]
  },
  {
   "cell_type": "code",
   "execution_count": 30,
   "id": "5d6b5c03",
   "metadata": {},
   "outputs": [
    {
     "data": {
      "image/png": "[encoded data removed]",
      "text/plain": [
       "<Figure size 600x400 with 1 Axes>"
      ]
     },
     "metadata": {},
     "output_type": "display_data"
    }
   ],
   "source": [
    "import matplotlib.pyplot as plt\n",
    "plt.figure(figsize=(6,4))\n",
    "plt.plot(x, y, c=\"blue\", linewidth=3.0, label=\"Sigmoid\")\n",
    "plt.axhline(y=0.5, color='r', linestyle='--', label='Threshold')\n",
    "plt.legend()\n",
    "plt.grid(True)\n",
    "plt.show()"
   ]
  },
  {
   "cell_type": "markdown",
   "id": "80059ea6",
   "metadata": {},
   "source": [
    "#### Applications:\n",
    "- In logistic regression, the sigmoid function is used to model the probability that a given input belongs to a particular class.\n",
    "- In artificial neural networks, sigmoid function is used as an activation function in hidden layers to introduce non-linearity into the model.\n",
    "- Sigmoid function is used in probabilistic models to represent conditional probabilities or to model cumulative distribution functions."
   ]
  },
  {
   "cell_type": "markdown",
   "id": "d77e46a8",
   "metadata": {},
   "source": [
    "#### Conclusion:\n",
    "- The sigmoid function is characterized by its S-shaped curve, which smoothly transitions from 0 to 1 as the input variable changes. This shape allows the function to capture non-linear relationships.\n",
    "\n",
    "- The sigmoid function can be interpreted as representing probabilities. This makes it useful in binary classification tasks, where the output of the model needs to indicate the likelihood of a given input belonging to a particular class."
   ]
  },
  {
   "attachments": {
    "image-3.png": {
     "image/png": "[encoded data removed]"
    }
   },
   "cell_type": "markdown",
   "id": "794313bc",
   "metadata": {},
   "source": [
    "![image-3.png](attachment:image-3.png)"
   ]
  }
 ],
 "metadata": {
  "kernelspec": {
   "display_name": "Python 3 (ipykernel)",
   "language": "python",
   "name": "python3"
  },
  "language_info": {
   "codemirror_mode": {
    "name": "ipython",
    "version": 3
   },
   "file_extension": ".py",
   "mimetype": "text/x-python",
   "name": "python",
   "nbconvert_exporter": "python",
   "pygments_lexer": "ipython3",
   "version": "3.10.9"
  }
 },
 "nbformat": 4,
 "nbformat_minor": 5
}
